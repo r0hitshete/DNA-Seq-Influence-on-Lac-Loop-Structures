{
 "cells": [
  {
   "cell_type": "code",
   "execution_count": 1,
   "id": "e0737ae3-f756-485c-bd0b-c106b8eca7d8",
   "metadata": {
    "tags": []
   },
   "outputs": [],
   "source": [
    "bases = [\"A\", \"C\", \"G\", \"T\"]\n",
    "comp_bases = {\"A\":\"T\", \"T\":\"A\", \"C\":\"G\", \"G\":\"C\"}"
   ]
  },
  {
   "cell_type": "code",
   "execution_count": 2,
   "id": "026d8ddf-2767-4180-912d-4eb0cc93da22",
   "metadata": {
    "tags": []
   },
   "outputs": [],
   "source": [
    "seq_change = \"ATTTATTCGCAAAGGCCGGCCCGACACGACTTATCATGTTATAACGGACTGTAGGTATCTCGAGCTCGGGATCCGCTTTAACACTTTATGCTTCCGGCTCGTATAATGTGTCGACCAAA\""
   ]
  },
  {
   "cell_type": "code",
   "execution_count": 3,
   "id": "dbc4981a-c889-4220-a4b5-c1ac44c9d2d2",
   "metadata": {},
   "outputs": [],
   "source": [
    "infile = open(\"bp_step.par\",\"r\")\n",
    "p1f1 = infile.readlines()\n",
    "infile.close()"
   ]
  },
  {
   "cell_type": "code",
   "execution_count": 4,
   "id": "db08f2a8-2f39-4521-ac67-68d331432e0d",
   "metadata": {
    "tags": []
   },
   "outputs": [],
   "source": [
    "new_filename = \"p1f1_modified\"\n",
    "header = p1f1[0:3].copy() # constant header that each par file must have\n",
    "starting_frozen = p1f1[3:17].copy() #first 14 frozen\n",
    "new_model = p1f1[17:136].copy() # the parameter data we want to edit (taking out the first 14 and last 14)\n",
    "ending_frozen = p1f1[136: 150].copy() #last 14 frozen\n",
    "\n",
    "for j in range(len(new_model)):\n",
    "    old_base_pair = new_model[j][:3] #the first three characters of each row, which has the base pair for replacing\n",
    "    new_base_pair = seq_change[j] + \"-\" + comp_bases[seq_change[j]] # the replacement base pair\n",
    "    new_model[j] = new_model[j].replace(old_base_pair, new_base_pair) # replacing the old base pair with the new\n",
    "    del old_base_pair, new_base_pair\n",
    "    \n",
    "outfile = open(new_filename+\".par\", \"w\")\n",
    "for line in header:\n",
    "    outfile.write(line)\n",
    "for line in starting_frozen:\n",
    "    outfile.write(line)\n",
    "for line in new_model:\n",
    "    outfile.write(line)\n",
    "for line in ending_frozen:\n",
    "    outfile.write(line)\n",
    "    \n",
    "outfile.close()\n",
    "del new_filename, header, new_model"
   ]
  },
  {
   "cell_type": "code",
   "execution_count": null,
   "id": "1be9421a-6700-4d6d-a4ab-73d3e5a3d63e",
   "metadata": {},
   "outputs": [],
   "source": []
  }
 ],
 "metadata": {
  "kernelspec": {
   "display_name": "Python 3 (ipykernel)",
   "language": "python",
   "name": "python3"
  },
  "language_info": {
   "codemirror_mode": {
    "name": "ipython",
    "version": 3
   },
   "file_extension": ".py",
   "mimetype": "text/x-python",
   "name": "python",
   "nbconvert_exporter": "python",
   "pygments_lexer": "ipython3",
   "version": "3.10.13"
  }
 },
 "nbformat": 4,
 "nbformat_minor": 5
}
