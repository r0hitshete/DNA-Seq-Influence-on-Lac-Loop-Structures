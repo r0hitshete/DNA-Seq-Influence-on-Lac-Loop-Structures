{
 "cells": [
  {
   "cell_type": "code",
   "execution_count": 3,
   "id": "d3c1d725-0da0-45fa-baee-9f8680e6bbbc",
   "metadata": {
    "tags": []
   },
   "outputs": [],
   "source": [
    "bases = [\"A\", \"C\", \"G\", \"T\"]\n",
    "comp_bases = {\"A\":\"T\", \"T\":\"A\", \"C\":\"G\", \"G\":\"C\"}"
   ]
  },
  {
   "cell_type": "code",
   "execution_count": 4,
   "id": "e2333c60-0199-4823-9a82-ad44726e5577",
   "metadata": {
    "tags": []
   },
   "outputs": [],
   "source": [
    "#Read and store original p1f1\n",
    "infile = open(\"bp_step.par\",\"r\")\n",
    "p1f1 = infile.readlines()\n",
    "infile.close()"
   ]
  },
  {
   "cell_type": "code",
   "execution_count": 5,
   "id": "478cc6e7-d819-4faf-9bd4-2704b1233b8c",
   "metadata": {
    "tags": []
   },
   "outputs": [],
   "source": [
    "count = 1 #Number the new files read in\n",
    "\n",
    "infile2 = open(\"Tal_seq.txt\", \"r\")\n",
    "tal_file = infile2.readlines()\n",
    "infile2.close()"
   ]
  },
  {
   "cell_type": "code",
   "execution_count": 6,
   "id": "19946c8b-4c25-42e3-bb5b-ff7c92a8e313",
   "metadata": {
    "tags": []
   },
   "outputs": [],
   "source": [
    "def createNewPar(seq_change, count):\n",
    "    new_filename = f\"p1f1_shift{count}\"\n",
    "    header = p1f1[0:3].copy() # constant header that each par file must have\n",
    "    starting_frozen = p1f1[3:17].copy() #first 14 frozen\n",
    "    new_model = p1f1[17:136].copy() # the parameter data we want to edit (taking out the first 14 and last 14)\n",
    "    ending_frozen = p1f1[136: 150].copy() #last 14 frozen\n",
    "\n",
    "    for j in range(len(new_model)):\n",
    "        old_base_pair = new_model[j][:3] #the first three characters of each row, which has the base pair for replacing\n",
    "        new_base_pair = seq_change[j] + \"-\" + comp_bases[seq_change[j]] # the replacement base pair\n",
    "        new_model[j] = new_model[j].replace(old_base_pair, new_base_pair) # replacing the old base pair with the new\n",
    "        del old_base_pair, new_base_pair\n",
    "        \n",
    "    outfile = open(new_filename+\".par\", \"w\")\n",
    "    for line in header:\n",
    "        outfile.write(line)\n",
    "    for line in starting_frozen:\n",
    "        outfile.write(line)\n",
    "    for line in new_model:\n",
    "        outfile.write(line)\n",
    "    for line in ending_frozen:\n",
    "        outfile.write(line)\n",
    "        \n",
    "    outfile.close()\n",
    "    del new_filename, header, new_model\n",
    "\n",
    "    return count+1"
   ]
  },
  {
   "cell_type": "code",
   "execution_count": 7,
   "id": "c7202680-a78e-4869-8a1b-36964e636694",
   "metadata": {
    "tags": []
   },
   "outputs": [],
   "source": [
    "for i in range(len(tal_file)):\n",
    "    createNewPar(tal_file[i], i + 1)"
   ]
  },
  {
   "cell_type": "code",
   "execution_count": null,
   "id": "3257962e-d5a3-4b49-8c96-73a8de0ecb1e",
   "metadata": {},
   "outputs": [],
   "source": []
  }
 ],
 "metadata": {
  "kernelspec": {
   "display_name": "Python 3 (ipykernel)",
   "language": "python",
   "name": "python3"
  },
  "language_info": {
   "codemirror_mode": {
    "name": "ipython",
    "version": 3
   },
   "file_extension": ".py",
   "mimetype": "text/x-python",
   "name": "python",
   "nbconvert_exporter": "python",
   "pygments_lexer": "ipython3",
   "version": "3.10.13"
  }
 },
 "nbformat": 4,
 "nbformat_minor": 5
}
